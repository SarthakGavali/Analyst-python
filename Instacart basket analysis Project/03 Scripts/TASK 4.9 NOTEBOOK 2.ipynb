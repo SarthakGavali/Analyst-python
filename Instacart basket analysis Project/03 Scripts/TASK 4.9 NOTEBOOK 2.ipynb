{
 "cells": [
  {
   "cell_type": "markdown",
   "id": "f05611ec",
   "metadata": {},
   "source": [
    "Table of contents:\n",
    "1) Importing the visualization libraries\n",
    "2) Importing 'cust_ords_prods_m.pkl' Dataset\n",
    "3) Creating Visualizations and exporting them to 'visualization' folder\n",
    "4)\n"
   ]
  },
  {
   "cell_type": "code",
   "execution_count": 1,
   "id": "f468055d",
   "metadata": {},
   "outputs": [],
   "source": [
    "# Importing libraries\n",
    "import pandas as pd\n",
    "import numpy as np\n",
    "import os\n",
    "import matplotlib.pyplot as plt\n",
    "import seaborn as sns\n",
    "import scipy"
   ]
  },
  {
   "cell_type": "code",
   "execution_count": 2,
   "id": "fe8f60c5",
   "metadata": {},
   "outputs": [],
   "source": [
    "#creating a path\n",
    "path = r'C:\\Users\\user\\OneDrive\\Documents\\Instacart basket analysis Career foundry'"
   ]
  },
  {
   "cell_type": "code",
   "execution_count": 3,
   "id": "7bef83eb",
   "metadata": {},
   "outputs": [
    {
     "data": {
      "text/plain": [
       "'C:\\\\Users\\\\user\\\\OneDrive\\\\Documents\\\\Instacart basket analysis Career foundry'"
      ]
     },
     "execution_count": 3,
     "metadata": {},
     "output_type": "execute_result"
    }
   ],
   "source": [
    "path"
   ]
  },
  {
   "cell_type": "code",
   "execution_count": 4,
   "id": "cea32f6d",
   "metadata": {},
   "outputs": [],
   "source": [
    "#Importing the updated Dataframe\n",
    "cust_ords_prods_mviz = pd.read_pickle(os.path.join(path, '02 Data', 'prepared Data', 'cust_ords_prods_m.pkl'))"
   ]
  },
  {
   "cell_type": "code",
   "execution_count": 5,
   "id": "f6e9d339",
   "metadata": {},
   "outputs": [],
   "source": [
    "pd.options.display.max_columns = None"
   ]
  },
  {
   "cell_type": "code",
   "execution_count": 7,
   "id": "5611281d",
   "metadata": {},
   "outputs": [
    {
     "data": {
      "text/html": [
       "<div>\n",
       "<style scoped>\n",
       "    .dataframe tbody tr th:only-of-type {\n",
       "        vertical-align: middle;\n",
       "    }\n",
       "\n",
       "    .dataframe tbody tr th {\n",
       "        vertical-align: top;\n",
       "    }\n",
       "\n",
       "    .dataframe thead th {\n",
       "        text-align: right;\n",
       "    }\n",
       "</style>\n",
       "<table border=\"1\" class=\"dataframe\">\n",
       "  <thead>\n",
       "    <tr style=\"text-align: right;\">\n",
       "      <th></th>\n",
       "      <th>user_id</th>\n",
       "      <th>first_name</th>\n",
       "      <th>surname</th>\n",
       "      <th>gender</th>\n",
       "      <th>state</th>\n",
       "      <th>age</th>\n",
       "      <th>date_joined</th>\n",
       "      <th>dependants</th>\n",
       "      <th>marital_status</th>\n",
       "      <th>income</th>\n",
       "      <th>order_id</th>\n",
       "      <th>order_number</th>\n",
       "      <th>orders_day_of_week</th>\n",
       "      <th>order_time_of_day</th>\n",
       "      <th>days_since_prior_order</th>\n",
       "      <th>product_id</th>\n",
       "      <th>add_to_cart_order</th>\n",
       "      <th>reordered</th>\n",
       "      <th>product_name</th>\n",
       "      <th>aisle_id</th>\n",
       "      <th>department_id</th>\n",
       "      <th>prices</th>\n",
       "      <th>price_range_loc</th>\n",
       "      <th>busiest day</th>\n",
       "      <th>busiest_period_of_day</th>\n",
       "      <th>max_order</th>\n",
       "      <th>loyalty_flag</th>\n",
       "      <th>mean_price</th>\n",
       "      <th>spending_flag</th>\n",
       "      <th>median_days_since_prior_ord</th>\n",
       "      <th>ord_frequency_flag</th>\n",
       "      <th>_merge</th>\n",
       "    </tr>\n",
       "  </thead>\n",
       "  <tbody>\n",
       "    <tr>\n",
       "      <th>0</th>\n",
       "      <td>26711</td>\n",
       "      <td>Deborah</td>\n",
       "      <td>Esquivel</td>\n",
       "      <td>Female</td>\n",
       "      <td>Missouri</td>\n",
       "      <td>48</td>\n",
       "      <td>1/1/2017</td>\n",
       "      <td>3</td>\n",
       "      <td>married</td>\n",
       "      <td>165665</td>\n",
       "      <td>2543867</td>\n",
       "      <td>5</td>\n",
       "      <td>1</td>\n",
       "      <td>9</td>\n",
       "      <td>30.0</td>\n",
       "      <td>196</td>\n",
       "      <td>2</td>\n",
       "      <td>0</td>\n",
       "      <td>Soda</td>\n",
       "      <td>77</td>\n",
       "      <td>7</td>\n",
       "      <td>9.0</td>\n",
       "      <td>Mid_range_products</td>\n",
       "      <td>Busiest days</td>\n",
       "      <td>Most orders</td>\n",
       "      <td>8</td>\n",
       "      <td>New customer</td>\n",
       "      <td>7.988889</td>\n",
       "      <td>Low spender</td>\n",
       "      <td>19.0</td>\n",
       "      <td>Regular customer</td>\n",
       "      <td>both</td>\n",
       "    </tr>\n",
       "    <tr>\n",
       "      <th>1</th>\n",
       "      <td>26711</td>\n",
       "      <td>Deborah</td>\n",
       "      <td>Esquivel</td>\n",
       "      <td>Female</td>\n",
       "      <td>Missouri</td>\n",
       "      <td>48</td>\n",
       "      <td>1/1/2017</td>\n",
       "      <td>3</td>\n",
       "      <td>married</td>\n",
       "      <td>165665</td>\n",
       "      <td>1285508</td>\n",
       "      <td>7</td>\n",
       "      <td>5</td>\n",
       "      <td>15</td>\n",
       "      <td>11.0</td>\n",
       "      <td>196</td>\n",
       "      <td>1</td>\n",
       "      <td>1</td>\n",
       "      <td>Soda</td>\n",
       "      <td>77</td>\n",
       "      <td>7</td>\n",
       "      <td>9.0</td>\n",
       "      <td>Mid_range_products</td>\n",
       "      <td>Regularly busy</td>\n",
       "      <td>Most orders</td>\n",
       "      <td>8</td>\n",
       "      <td>New customer</td>\n",
       "      <td>7.988889</td>\n",
       "      <td>Low spender</td>\n",
       "      <td>19.0</td>\n",
       "      <td>Regular customer</td>\n",
       "      <td>both</td>\n",
       "    </tr>\n",
       "    <tr>\n",
       "      <th>2</th>\n",
       "      <td>26711</td>\n",
       "      <td>Deborah</td>\n",
       "      <td>Esquivel</td>\n",
       "      <td>Female</td>\n",
       "      <td>Missouri</td>\n",
       "      <td>48</td>\n",
       "      <td>1/1/2017</td>\n",
       "      <td>3</td>\n",
       "      <td>married</td>\n",
       "      <td>165665</td>\n",
       "      <td>2578584</td>\n",
       "      <td>8</td>\n",
       "      <td>1</td>\n",
       "      <td>15</td>\n",
       "      <td>10.0</td>\n",
       "      <td>196</td>\n",
       "      <td>2</td>\n",
       "      <td>1</td>\n",
       "      <td>Soda</td>\n",
       "      <td>77</td>\n",
       "      <td>7</td>\n",
       "      <td>9.0</td>\n",
       "      <td>Mid_range_products</td>\n",
       "      <td>Busiest days</td>\n",
       "      <td>Most orders</td>\n",
       "      <td>8</td>\n",
       "      <td>New customer</td>\n",
       "      <td>7.988889</td>\n",
       "      <td>Low spender</td>\n",
       "      <td>19.0</td>\n",
       "      <td>Regular customer</td>\n",
       "      <td>both</td>\n",
       "    </tr>\n",
       "    <tr>\n",
       "      <th>3</th>\n",
       "      <td>26711</td>\n",
       "      <td>Deborah</td>\n",
       "      <td>Esquivel</td>\n",
       "      <td>Female</td>\n",
       "      <td>Missouri</td>\n",
       "      <td>48</td>\n",
       "      <td>1/1/2017</td>\n",
       "      <td>3</td>\n",
       "      <td>married</td>\n",
       "      <td>165665</td>\n",
       "      <td>423547</td>\n",
       "      <td>2</td>\n",
       "      <td>2</td>\n",
       "      <td>9</td>\n",
       "      <td>14.0</td>\n",
       "      <td>38928</td>\n",
       "      <td>1</td>\n",
       "      <td>0</td>\n",
       "      <td>0% Greek Strained Yogurt</td>\n",
       "      <td>120</td>\n",
       "      <td>16</td>\n",
       "      <td>12.6</td>\n",
       "      <td>Mid_range_products</td>\n",
       "      <td>Regularly busy</td>\n",
       "      <td>Most orders</td>\n",
       "      <td>8</td>\n",
       "      <td>New customer</td>\n",
       "      <td>7.988889</td>\n",
       "      <td>Low spender</td>\n",
       "      <td>19.0</td>\n",
       "      <td>Regular customer</td>\n",
       "      <td>both</td>\n",
       "    </tr>\n",
       "    <tr>\n",
       "      <th>4</th>\n",
       "      <td>26711</td>\n",
       "      <td>Deborah</td>\n",
       "      <td>Esquivel</td>\n",
       "      <td>Female</td>\n",
       "      <td>Missouri</td>\n",
       "      <td>48</td>\n",
       "      <td>1/1/2017</td>\n",
       "      <td>3</td>\n",
       "      <td>married</td>\n",
       "      <td>165665</td>\n",
       "      <td>2524893</td>\n",
       "      <td>3</td>\n",
       "      <td>3</td>\n",
       "      <td>11</td>\n",
       "      <td>30.0</td>\n",
       "      <td>38928</td>\n",
       "      <td>1</td>\n",
       "      <td>1</td>\n",
       "      <td>0% Greek Strained Yogurt</td>\n",
       "      <td>120</td>\n",
       "      <td>16</td>\n",
       "      <td>12.6</td>\n",
       "      <td>Mid_range_products</td>\n",
       "      <td>Slowest days</td>\n",
       "      <td>Most orders</td>\n",
       "      <td>8</td>\n",
       "      <td>New customer</td>\n",
       "      <td>7.988889</td>\n",
       "      <td>Low spender</td>\n",
       "      <td>19.0</td>\n",
       "      <td>Regular customer</td>\n",
       "      <td>both</td>\n",
       "    </tr>\n",
       "  </tbody>\n",
       "</table>\n",
       "</div>"
      ],
      "text/plain": [
       "   user_id first_name   surname  gender     state  age date_joined  \\\n",
       "0    26711    Deborah  Esquivel  Female  Missouri   48    1/1/2017   \n",
       "1    26711    Deborah  Esquivel  Female  Missouri   48    1/1/2017   \n",
       "2    26711    Deborah  Esquivel  Female  Missouri   48    1/1/2017   \n",
       "3    26711    Deborah  Esquivel  Female  Missouri   48    1/1/2017   \n",
       "4    26711    Deborah  Esquivel  Female  Missouri   48    1/1/2017   \n",
       "\n",
       "   dependants marital_status  income  order_id  order_number  \\\n",
       "0           3        married  165665   2543867             5   \n",
       "1           3        married  165665   1285508             7   \n",
       "2           3        married  165665   2578584             8   \n",
       "3           3        married  165665    423547             2   \n",
       "4           3        married  165665   2524893             3   \n",
       "\n",
       "   orders_day_of_week  order_time_of_day  days_since_prior_order  product_id  \\\n",
       "0                   1                  9                    30.0         196   \n",
       "1                   5                 15                    11.0         196   \n",
       "2                   1                 15                    10.0         196   \n",
       "3                   2                  9                    14.0       38928   \n",
       "4                   3                 11                    30.0       38928   \n",
       "\n",
       "   add_to_cart_order  reordered              product_name  aisle_id  \\\n",
       "0                  2          0                      Soda        77   \n",
       "1                  1          1                      Soda        77   \n",
       "2                  2          1                      Soda        77   \n",
       "3                  1          0  0% Greek Strained Yogurt       120   \n",
       "4                  1          1  0% Greek Strained Yogurt       120   \n",
       "\n",
       "   department_id  prices     price_range_loc     busiest day  \\\n",
       "0              7     9.0  Mid_range_products    Busiest days   \n",
       "1              7     9.0  Mid_range_products  Regularly busy   \n",
       "2              7     9.0  Mid_range_products    Busiest days   \n",
       "3             16    12.6  Mid_range_products  Regularly busy   \n",
       "4             16    12.6  Mid_range_products    Slowest days   \n",
       "\n",
       "  busiest_period_of_day  max_order  loyalty_flag  mean_price spending_flag  \\\n",
       "0           Most orders          8  New customer    7.988889   Low spender   \n",
       "1           Most orders          8  New customer    7.988889   Low spender   \n",
       "2           Most orders          8  New customer    7.988889   Low spender   \n",
       "3           Most orders          8  New customer    7.988889   Low spender   \n",
       "4           Most orders          8  New customer    7.988889   Low spender   \n",
       "\n",
       "   median_days_since_prior_ord ord_frequency_flag _merge  \n",
       "0                         19.0   Regular customer   both  \n",
       "1                         19.0   Regular customer   both  \n",
       "2                         19.0   Regular customer   both  \n",
       "3                         19.0   Regular customer   both  \n",
       "4                         19.0   Regular customer   both  "
      ]
     },
     "execution_count": 7,
     "metadata": {},
     "output_type": "execute_result"
    }
   ],
   "source": [
    "cust_ords_prods_mviz.head()"
   ]
  },
  {
   "cell_type": "markdown",
   "id": "3ffd499f",
   "metadata": {},
   "source": [
    "# DESCRIPTIVE FINDINGS ABOUT SALES"
   ]
  },
  {
   "cell_type": "code",
   "execution_count": 8,
   "id": "da226316",
   "metadata": {},
   "outputs": [
    {
     "data": {
      "text/plain": [
       "10    2761760\n",
       "11    2736140\n",
       "14    2689136\n",
       "15    2662144\n",
       "13    2660954\n",
       "12    2618532\n",
       "16    2535202\n",
       "9     2454203\n",
       "17    2087654\n",
       "8     1718118\n",
       "18    1636502\n",
       "19    1258305\n",
       "20     976156\n",
       "7      891054\n",
       "21     795637\n",
       "22     634225\n",
       "23     402316\n",
       "6      290493\n",
       "0      218769\n",
       "1      115700\n",
       "5       87961\n",
       "2       69375\n",
       "4       53242\n",
       "3       51281\n",
       "Name: order_time_of_day, dtype: int64"
      ]
     },
     "execution_count": 8,
     "metadata": {},
     "output_type": "execute_result"
    }
   ],
   "source": [
    "cust_ords_prods_mviz['order_time_of_day'].value_counts(dropna=False)"
   ]
  },
  {
   "cell_type": "code",
   "execution_count": 9,
   "id": "25540755",
   "metadata": {},
   "outputs": [
    {
     "data": {
      "image/png": "[encoded data removed]",
      "text/plain": [
       "<Figure size 432x288 with 1 Axes>"
      ]
     },
     "metadata": {
      "needs_background": "light"
     },
     "output_type": "display_data"
    }
   ],
   "source": [
    "#Histogram of daily sales on an hourly basis\n",
    "sales_hod_hist = cust_ords_prods_mviz['order_time_of_day'].plot.hist(bins = 24)"
   ]
  },
  {
   "cell_type": "markdown",
   "id": "4f88668d",
   "metadata": {},
   "source": [
    "#As is visible from the histogram \n",
    "- 9 am to 17.00 hrs (i.e 9am to 5pm) are hrs of highest orders.\n",
    "- most orders are placed in this time period.\n",
    "- 9:00 AM is the hour of highest orders and morning 3:00AM and 4:00AM are the hours of least orders.\n"
   ]
  },
  {
   "cell_type": "code",
   "execution_count": 15,
   "id": "5e5c9ee8",
   "metadata": {},
   "outputs": [],
   "source": [
    "#exporting the figure\n",
    "sales_hod_hist.figure.savefig(os.path.join(path, '04 Analysis','Visualizations', 'sales_hod_hist.png'))"
   ]
  },
  {
   "cell_type": "code",
   "execution_count": 12,
   "id": "42fa7ea5",
   "metadata": {},
   "outputs": [
    {
     "data": {
      "image/png": "[encoded data removed]",
      "text/plain": [
       "<Figure size 432x288 with 1 Axes>"
      ]
     },
     "metadata": {
      "needs_background": "light"
     },
     "output_type": "display_data"
    }
   ],
   "source": [
    "# creating a bar chart based on 'loyalty' of customers\n",
    "loyalty_bar = cust_ords_prods_mviz['loyalty_flag'].value_counts().plot.bar()\n"
   ]
  },
  {
   "cell_type": "markdown",
   "id": "95d24f89",
   "metadata": {},
   "source": [
    "From the bar chart it is visible that:\n",
    "- Regular customers place the  highest number of orders followed by loyal customers.\n",
    "- New customers place the least orders amongst the 3 customer classes.\n",
    "- Although the per order price for loyal customers is high their frequency of order is lesser than the regular customers. "
   ]
  },
  {
   "cell_type": "code",
   "execution_count": 14,
   "id": "5369c4c4",
   "metadata": {},
   "outputs": [],
   "source": [
    "#Exporting the figure\n",
    "loyalty_bar.figure.savefig(os.path.join(path, '04 Analysis','Visualizations', 'loyalty_bar.png'))"
   ]
  },
  {
   "cell_type": "code",
   "execution_count": 27,
   "id": "ac538f48",
   "metadata": {},
   "outputs": [],
   "source": [
    "# To create a line chart of expenditure by hourly basis we need to plot the prices against the orders_time_of_day\n",
    "# we first create a random sees\n",
    "np.random.seed(4)\n",
    "dev = np.random.rand(len(cust_ords_prods_mviz)) <= 0.7"
   ]
  },
  {
   "cell_type": "code",
   "execution_count": 28,
   "id": "43776857",
   "metadata": {},
   "outputs": [],
   "source": [
    "#save 70% of the data in the dataframe 'big'\n",
    "big = cust_ords_prods_mviz[dev]"
   ]
  },
  {
   "cell_type": "code",
   "execution_count": 29,
   "id": "dabeef66",
   "metadata": {},
   "outputs": [],
   "source": [
    "#store 30% of the data in Dataframe 'small'\n",
    "small = cust_ords_prods_mviz[~dev]"
   ]
  },
  {
   "cell_type": "code",
   "execution_count": 30,
   "id": "a914a3e0",
   "metadata": {},
   "outputs": [
    {
     "data": {
      "text/plain": [
       "32404859"
      ]
     },
     "execution_count": 30,
     "metadata": {},
     "output_type": "execute_result"
    }
   ],
   "source": [
    "len(cust_ords_prods_mviz) #checking for the length of the entire dataframe"
   ]
  },
  {
   "cell_type": "code",
   "execution_count": 31,
   "id": "ca0cdb65",
   "metadata": {},
   "outputs": [
    {
     "data": {
      "text/plain": [
       "32404859"
      ]
     },
     "execution_count": 31,
     "metadata": {},
     "output_type": "execute_result"
    }
   ],
   "source": [
    "len(big) + len(small) #comparing the length of sum of big and small dataframes with the original dataset"
   ]
  },
  {
   "cell_type": "code",
   "execution_count": 32,
   "id": "fea8d3f4",
   "metadata": {},
   "outputs": [],
   "source": [
    "#Reducing the sample datasframe to only the required columns\n",
    "df_2 = small[['order_time_of_day','prices']]"
   ]
  },
  {
   "cell_type": "code",
   "execution_count": 33,
   "id": "c690712e",
   "metadata": {},
   "outputs": [
    {
     "data": {
      "text/html": [
       "<div>\n",
       "<style scoped>\n",
       "    .dataframe tbody tr th:only-of-type {\n",
       "        vertical-align: middle;\n",
       "    }\n",
       "\n",
       "    .dataframe tbody tr th {\n",
       "        vertical-align: top;\n",
       "    }\n",
       "\n",
       "    .dataframe thead th {\n",
       "        text-align: right;\n",
       "    }\n",
       "</style>\n",
       "<table border=\"1\" class=\"dataframe\">\n",
       "  <thead>\n",
       "    <tr style=\"text-align: right;\">\n",
       "      <th></th>\n",
       "      <th>order_time_of_day</th>\n",
       "      <th>prices</th>\n",
       "    </tr>\n",
       "  </thead>\n",
       "  <tbody>\n",
       "    <tr>\n",
       "      <th>0</th>\n",
       "      <td>9</td>\n",
       "      <td>9.0</td>\n",
       "    </tr>\n",
       "    <tr>\n",
       "      <th>2</th>\n",
       "      <td>15</td>\n",
       "      <td>9.0</td>\n",
       "    </tr>\n",
       "    <tr>\n",
       "      <th>3</th>\n",
       "      <td>9</td>\n",
       "      <td>12.6</td>\n",
       "    </tr>\n",
       "    <tr>\n",
       "      <th>6</th>\n",
       "      <td>8</td>\n",
       "      <td>12.6</td>\n",
       "    </tr>\n",
       "    <tr>\n",
       "      <th>10</th>\n",
       "      <td>11</td>\n",
       "      <td>4.3</td>\n",
       "    </tr>\n",
       "  </tbody>\n",
       "</table>\n",
       "</div>"
      ],
      "text/plain": [
       "    order_time_of_day  prices\n",
       "0                   9     9.0\n",
       "2                  15     9.0\n",
       "3                   9    12.6\n",
       "6                   8    12.6\n",
       "10                 11     4.3"
      ]
     },
     "execution_count": 33,
     "metadata": {},
     "output_type": "execute_result"
    }
   ],
   "source": [
    "df_2.head()"
   ]
  },
  {
   "cell_type": "code",
   "execution_count": 35,
   "id": "2547ebd7",
   "metadata": {},
   "outputs": [
    {
     "data": {
      "image/png": "[encoded data removed]",
      "text/plain": [
       "<Figure size 432x288 with 1 Axes>"
      ]
     },
     "metadata": {
      "needs_background": "light"
     },
     "output_type": "display_data"
    }
   ],
   "source": [
    "line_hr_exp = sns.lineplot(data = df_2, x = 'order_time_of_day', y = 'prices')"
   ]
  },
  {
   "cell_type": "markdown",
   "id": "f796551e",
   "metadata": {},
   "source": [
    "#from the line chart it is clear that\n",
    "- there is great fluctuation in price expenditure between mid-night to 5:00 AM in the morning \n",
    "- After 5:00 AM the expenditure steadily rises and stays almost constant from 9:00 hrs to 20:00 hrs.\n"
   ]
  },
  {
   "cell_type": "code",
   "execution_count": 36,
   "id": "c7964fc9",
   "metadata": {},
   "outputs": [],
   "source": [
    "#Exporting the figure\n",
    "line_hr_exp.figure.savefig(os.path.join(path, '04 Analysis','Visualizations', 'line_hr_exp.png'))"
   ]
  },
  {
   "cell_type": "code",
   "execution_count": 37,
   "id": "507f03cd",
   "metadata": {},
   "outputs": [],
   "source": [
    "df_3 = small[['age','dependants']]"
   ]
  },
  {
   "cell_type": "code",
   "execution_count": 38,
   "id": "2916c618",
   "metadata": {},
   "outputs": [
    {
     "data": {
      "text/html": [
       "<div>\n",
       "<style scoped>\n",
       "    .dataframe tbody tr th:only-of-type {\n",
       "        vertical-align: middle;\n",
       "    }\n",
       "\n",
       "    .dataframe tbody tr th {\n",
       "        vertical-align: top;\n",
       "    }\n",
       "\n",
       "    .dataframe thead th {\n",
       "        text-align: right;\n",
       "    }\n",
       "</style>\n",
       "<table border=\"1\" class=\"dataframe\">\n",
       "  <thead>\n",
       "    <tr style=\"text-align: right;\">\n",
       "      <th></th>\n",
       "      <th>age</th>\n",
       "      <th>dependants</th>\n",
       "    </tr>\n",
       "  </thead>\n",
       "  <tbody>\n",
       "    <tr>\n",
       "      <th>0</th>\n",
       "      <td>48</td>\n",
       "      <td>3</td>\n",
       "    </tr>\n",
       "    <tr>\n",
       "      <th>2</th>\n",
       "      <td>48</td>\n",
       "      <td>3</td>\n",
       "    </tr>\n",
       "    <tr>\n",
       "      <th>3</th>\n",
       "      <td>48</td>\n",
       "      <td>3</td>\n",
       "    </tr>\n",
       "    <tr>\n",
       "      <th>6</th>\n",
       "      <td>48</td>\n",
       "      <td>3</td>\n",
       "    </tr>\n",
       "    <tr>\n",
       "      <th>10</th>\n",
       "      <td>48</td>\n",
       "      <td>3</td>\n",
       "    </tr>\n",
       "  </tbody>\n",
       "</table>\n",
       "</div>"
      ],
      "text/plain": [
       "    age  dependants\n",
       "0    48           3\n",
       "2    48           3\n",
       "3    48           3\n",
       "6    48           3\n",
       "10   48           3"
      ]
     },
     "execution_count": 38,
     "metadata": {},
     "output_type": "execute_result"
    }
   ],
   "source": [
    "df_3.head()"
   ]
  },
  {
   "cell_type": "code",
   "execution_count": 40,
   "id": "af6db188",
   "metadata": {},
   "outputs": [
    {
     "data": {
      "image/png": "[encoded data removed]",
      "text/plain": [
       "<Figure size 432x288 with 1 Axes>"
      ]
     },
     "metadata": {
      "needs_background": "light"
     },
     "output_type": "display_data"
    }
   ],
   "source": [
    "line_age_dep = sns.lineplot(data = df_3, x = 'age', y = 'dependants')"
   ]
  },
  {
   "cell_type": "markdown",
   "id": "33ed8416",
   "metadata": {},
   "source": [
    "#Age and dependants insights\n",
    "- Almost all customers between the age group of 20 to 80 yrs have 1 or 2 dependants.\n",
    "- There is a great fluctuation with regards to dependants in the 20-30 and 20-80 age group categories.\n",
    "- Whereas the age group of 30 to 60 yrs consistently has 1 or more dependants."
   ]
  },
  {
   "cell_type": "code",
   "execution_count": 41,
   "id": "30a71a45",
   "metadata": {},
   "outputs": [],
   "source": [
    "#Exporting the figure\n",
    "line_age_dep.figure.savefig(os.path.join(path, '04 Analysis','Visualizations', 'line_age_dep.png'))"
   ]
  },
  {
   "cell_type": "code",
   "execution_count": 44,
   "id": "9aa5b8e4",
   "metadata": {},
   "outputs": [],
   "source": [
    "# To determine the relationship between age and spending power lets create a dataset of age and spending flag\n",
    "df_4 = small[['age','spending_flag']]"
   ]
  },
  {
   "cell_type": "code",
   "execution_count": 45,
   "id": "e26ccbd5",
   "metadata": {},
   "outputs": [
    {
     "data": {
      "text/html": [
       "<div>\n",
       "<style scoped>\n",
       "    .dataframe tbody tr th:only-of-type {\n",
       "        vertical-align: middle;\n",
       "    }\n",
       "\n",
       "    .dataframe tbody tr th {\n",
       "        vertical-align: top;\n",
       "    }\n",
       "\n",
       "    .dataframe thead th {\n",
       "        text-align: right;\n",
       "    }\n",
       "</style>\n",
       "<table border=\"1\" class=\"dataframe\">\n",
       "  <thead>\n",
       "    <tr style=\"text-align: right;\">\n",
       "      <th></th>\n",
       "      <th>age</th>\n",
       "      <th>spending_flag</th>\n",
       "    </tr>\n",
       "  </thead>\n",
       "  <tbody>\n",
       "    <tr>\n",
       "      <th>0</th>\n",
       "      <td>48</td>\n",
       "      <td>Low spender</td>\n",
       "    </tr>\n",
       "    <tr>\n",
       "      <th>2</th>\n",
       "      <td>48</td>\n",
       "      <td>Low spender</td>\n",
       "    </tr>\n",
       "    <tr>\n",
       "      <th>3</th>\n",
       "      <td>48</td>\n",
       "      <td>Low spender</td>\n",
       "    </tr>\n",
       "    <tr>\n",
       "      <th>6</th>\n",
       "      <td>48</td>\n",
       "      <td>Low spender</td>\n",
       "    </tr>\n",
       "    <tr>\n",
       "      <th>10</th>\n",
       "      <td>48</td>\n",
       "      <td>Low spender</td>\n",
       "    </tr>\n",
       "  </tbody>\n",
       "</table>\n",
       "</div>"
      ],
      "text/plain": [
       "    age spending_flag\n",
       "0    48   Low spender\n",
       "2    48   Low spender\n",
       "3    48   Low spender\n",
       "6    48   Low spender\n",
       "10   48   Low spender"
      ]
     },
     "execution_count": 45,
     "metadata": {},
     "output_type": "execute_result"
    }
   ],
   "source": [
    "df_4.head()"
   ]
  },
  {
   "cell_type": "code",
   "execution_count": 50,
   "id": "c2c38b6b",
   "metadata": {},
   "outputs": [
    {
     "data": {
      "image/png": "[encoded data removed]",
      "text/plain": [
       "<Figure size 432x288 with 1 Axes>"
      ]
     },
     "metadata": {
      "needs_background": "light"
     },
     "output_type": "display_data"
    }
   ],
   "source": [
    "scp_age_sp = sns.scatterplot(data = df_4, x = 'age', y = 'spending_flag')"
   ]
  },
  {
   "cell_type": "markdown",
   "id": "8a5642f4",
   "metadata": {},
   "source": [
    "#Age and spending power insights\n",
    "- It is obvious from the scatterplot that there are equal high and low spenders in all age groups.\n",
    "- Other word we can say that age has nothinng to do with spending power.\n",
    "- Low and high spenders are uniformly present in all age groups."
   ]
  },
  {
   "cell_type": "code",
   "execution_count": 54,
   "id": "33c98506",
   "metadata": {},
   "outputs": [],
   "source": [
    "#Exporting the figure\n",
    "scp_age_sp.figure.savefig(os.path.join(path, '04 Analysis','Visualizations', 'scp_age_sp.png'))"
   ]
  },
  {
   "cell_type": "code",
   "execution_count": 51,
   "id": "4fce5392",
   "metadata": {},
   "outputs": [],
   "source": [
    "#Let us confirm the finding of the scatterplot by creating another scatterplot of Age to mean_price\n",
    "df_5 = small[['age','mean_price']]"
   ]
  },
  {
   "cell_type": "code",
   "execution_count": 52,
   "id": "536e1e96",
   "metadata": {},
   "outputs": [
    {
     "data": {
      "text/html": [
       "<div>\n",
       "<style scoped>\n",
       "    .dataframe tbody tr th:only-of-type {\n",
       "        vertical-align: middle;\n",
       "    }\n",
       "\n",
       "    .dataframe tbody tr th {\n",
       "        vertical-align: top;\n",
       "    }\n",
       "\n",
       "    .dataframe thead th {\n",
       "        text-align: right;\n",
       "    }\n",
       "</style>\n",
       "<table border=\"1\" class=\"dataframe\">\n",
       "  <thead>\n",
       "    <tr style=\"text-align: right;\">\n",
       "      <th></th>\n",
       "      <th>age</th>\n",
       "      <th>mean_price</th>\n",
       "    </tr>\n",
       "  </thead>\n",
       "  <tbody>\n",
       "    <tr>\n",
       "      <th>0</th>\n",
       "      <td>48</td>\n",
       "      <td>7.988889</td>\n",
       "    </tr>\n",
       "    <tr>\n",
       "      <th>2</th>\n",
       "      <td>48</td>\n",
       "      <td>7.988889</td>\n",
       "    </tr>\n",
       "    <tr>\n",
       "      <th>3</th>\n",
       "      <td>48</td>\n",
       "      <td>7.988889</td>\n",
       "    </tr>\n",
       "    <tr>\n",
       "      <th>6</th>\n",
       "      <td>48</td>\n",
       "      <td>7.988889</td>\n",
       "    </tr>\n",
       "    <tr>\n",
       "      <th>10</th>\n",
       "      <td>48</td>\n",
       "      <td>7.988889</td>\n",
       "    </tr>\n",
       "  </tbody>\n",
       "</table>\n",
       "</div>"
      ],
      "text/plain": [
       "    age  mean_price\n",
       "0    48    7.988889\n",
       "2    48    7.988889\n",
       "3    48    7.988889\n",
       "6    48    7.988889\n",
       "10   48    7.988889"
      ]
     },
     "execution_count": 52,
     "metadata": {},
     "output_type": "execute_result"
    }
   ],
   "source": [
    "df_5.head()"
   ]
  },
  {
   "cell_type": "code",
   "execution_count": 53,
   "id": "7b70336b",
   "metadata": {},
   "outputs": [
    {
     "data": {
      "image/png": "[encoded data removed]",
      "text/plain": [
       "<Figure size 432x288 with 1 Axes>"
      ]
     },
     "metadata": {
      "needs_background": "light"
     },
     "output_type": "display_data"
    }
   ],
   "source": [
    "scp_age_mp = sns.scatterplot(data = df_5, x = 'age', y = 'mean_price')"
   ]
  },
  {
   "cell_type": "markdown",
   "id": "673c6340",
   "metadata": {},
   "source": [
    "#Findings of scatterplot 2 \n",
    "- this second scatterplot confirms our findings from the previous plot that spending power has nothing to do with age.\n",
    "- High and low spenders are uniformly present throughout all age groups."
   ]
  },
  {
   "cell_type": "code",
   "execution_count": 55,
   "id": "5fdc3b5a",
   "metadata": {},
   "outputs": [],
   "source": [
    "#Exporting the figure\n",
    "scp_age_mp.figure.savefig(os.path.join(path, '04 Analysis','Visualizations', 'scp_age_mp.png'))"
   ]
  }
 ],
 "metadata": {
  "kernelspec": {
   "display_name": "Python 3 (ipykernel)",
   "language": "python",
   "name": "python3"
  },
  "language_info": {
   "codemirror_mode": {
    "name": "ipython",
    "version": 3
   },
   "file_extension": ".py",
   "mimetype": "text/x-python",
   "name": "python",
   "nbconvert_exporter": "python",
   "pygments_lexer": "ipython3",
   "version": "3.9.12"
  }
 },
 "nbformat": 4,
 "nbformat_minor": 5
}
